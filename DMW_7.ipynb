{
  "cells": [
    {
      "cell_type": "markdown",
      "metadata": {
        "id": "view-in-github",
        "colab_type": "text"
      },
      "source": [
        "<a href=\"https://colab.research.google.com/github/Tejasvini2001/DMWL_Assignments/blob/main/DMW_7.ipynb\" target=\"_parent\"><img src=\"https://colab.research.google.com/assets/colab-badge.svg\" alt=\"Open In Colab\"/></a>"
      ]
    },
    {
      "cell_type": "markdown",
      "id": "aa033cb3",
      "metadata": {
        "id": "aa033cb3"
      },
      "source": [
        "## Assignment No 7 - Implementation of similarity and dissimilarity measures "
      ]
    },
    {
      "cell_type": "markdown",
      "id": "cab5fa5f",
      "metadata": {
        "id": "cab5fa5f"
      },
      "source": [
        "###                    Numeric similarity and dissimilarty"
      ]
    },
    {
      "cell_type": "code",
      "execution_count": null,
      "id": "49d9f0a8",
      "metadata": {
        "id": "49d9f0a8"
      },
      "outputs": [],
      "source": [
        "#euclidean distance \n",
        "from math import*\n",
        " \n",
        "def euclidean_distance(x,y):\n",
        " \n",
        "    return sqrt(sum(pow(a-b,2) for a, b in zip(x, y)))"
      ]
    },
    {
      "cell_type": "code",
      "execution_count": null,
      "id": "e763c6c1",
      "metadata": {
        "id": "e763c6c1",
        "outputId": "581641c9-11a8-479d-9bac-c7e218f11a03"
      },
      "outputs": [
        {
          "name": "stdout",
          "output_type": "stream",
          "text": [
            "9.746794344808963\n"
          ]
        }
      ],
      "source": [
        "print(euclidean_distance([0,3,4,5],[7,6,3,-1]))"
      ]
    },
    {
      "cell_type": "code",
      "execution_count": null,
      "id": "a80eb9ce",
      "metadata": {
        "id": "a80eb9ce"
      },
      "outputs": [],
      "source": [
        "#manhattan distance \n",
        "from math import*\n",
        " \n",
        "def manhattan_distance(x,y):\n",
        " \n",
        "    return sum(abs(a-b) for a,b in zip(x,y))\n",
        " \n"
      ]
    },
    {
      "cell_type": "code",
      "execution_count": null,
      "id": "45d5a425",
      "metadata": {
        "id": "45d5a425",
        "outputId": "6e709b89-53f3-49cb-f83f-f06959bcb224"
      },
      "outputs": [
        {
          "name": "stdout",
          "output_type": "stream",
          "text": [
            "10\n"
          ]
        }
      ],
      "source": [
        "print(manhattan_distance([10,20,10],[10,20,20]))"
      ]
    },
    {
      "cell_type": "code",
      "execution_count": null,
      "id": "42dc9b98",
      "metadata": {
        "id": "42dc9b98"
      },
      "outputs": [],
      "source": [
        "#minkowski distance \n",
        "\n",
        "from math import*\n",
        "from decimal import Decimal\n",
        " \n",
        "def nth_root(value, n_root):\n",
        " \n",
        "    root_value = 1/float(n_root)\n",
        "    return round (Decimal(value) ** Decimal(root_value),3)\n",
        " \n",
        "def minkowski_distance(x,y,p_value):\n",
        " \n",
        "    return nth_root(sum(pow(abs(a-b),p_value) for a,b in zip(x, y)),p_value)\n",
        " \n"
      ]
    },
    {
      "cell_type": "code",
      "execution_count": null,
      "id": "fbae9c69",
      "metadata": {
        "id": "fbae9c69",
        "outputId": "7f5adf1a-f4e1-4eb0-ab7d-60c6d9b85584"
      },
      "outputs": [
        {
          "name": "stdout",
          "output_type": "stream",
          "text": [
            "8.373\n"
          ]
        }
      ],
      "source": [
        "print (minkowski_distance([0,3,4,5],[7,6,3,-1],3))"
      ]
    },
    {
      "cell_type": "markdown",
      "id": "a33e72f7",
      "metadata": {
        "id": "a33e72f7"
      },
      "source": [
        "### cosine similarity and dissimilarty"
      ]
    },
    {
      "cell_type": "code",
      "execution_count": null,
      "id": "97ec587f",
      "metadata": {
        "id": "97ec587f"
      },
      "outputs": [],
      "source": [
        "from math import*\n",
        " \n",
        "def square_rooted(x):\n",
        " \n",
        "    return round(sqrt(sum([a*a for a in x])),3)\n",
        " \n",
        "def cosine_similarity(x,y):\n",
        "    numerator = sum(a*b for a,b in zip(x,y))\n",
        "    denominator = square_rooted(x)*square_rooted(y)\n",
        "    return round(numerator/float(denominator),3)"
      ]
    },
    {
      "cell_type": "code",
      "execution_count": null,
      "id": "f9882905",
      "metadata": {
        "id": "f9882905",
        "outputId": "87754de0-90d1-4a22-d33f-085302a873c8"
      },
      "outputs": [
        {
          "name": "stdout",
          "output_type": "stream",
          "text": [
            "0.972\n"
          ]
        }
      ],
      "source": [
        "print(cosine_similarity([3, 45, 7, 2], [2, 54, 13, 15]))"
      ]
    },
    {
      "cell_type": "code",
      "execution_count": null,
      "id": "70f98805",
      "metadata": {
        "id": "70f98805"
      },
      "outputs": [],
      "source": []
    }
  ],
  "metadata": {
    "kernelspec": {
      "display_name": "Python 3.10.1 64-bit",
      "language": "python",
      "name": "python3"
    },
    "language_info": {
      "codemirror_mode": {
        "name": "ipython",
        "version": 3
      },
      "file_extension": ".py",
      "mimetype": "text/x-python",
      "name": "python",
      "nbconvert_exporter": "python",
      "pygments_lexer": "ipython3",
      "version": "3.10.1"
    },
    "vscode": {
      "interpreter": {
        "hash": "0db7e167740a1ded59b9d58c76428b8824de83d7844ba425650451d1648c0e4a"
      }
    },
    "colab": {
      "provenance": [],
      "include_colab_link": true
    }
  },
  "nbformat": 4,
  "nbformat_minor": 5
}